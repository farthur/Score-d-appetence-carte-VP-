{
 "cells": [
  {
   "cell_type": "markdown",
   "metadata": {},
   "source": [
    "# Score d’appétence de la carte visa premier"
   ]
  },
  {
   "cell_type": "markdown",
   "metadata": {},
   "source": [
    "**Résumé**:\n",
    "liste des variables explicatives quantitatives\n",
    "varquant=var[1:30]\n",
    "liste des variables explicatives qualitatives\n",
    "varqual=var[31:55]"
   ]
  },
  {
   "cell_type": "markdown",
   "metadata": {},
   "source": [
    "# 1. Construction des échantillons apprentissage"
   ]
  },
  {
   "cell_type": "markdown",
   "metadata": {},
   "source": [
    "Afin de pouvoir comparer R et python, nous prendrons les échantillons d'apprentissage et de test du script R"
   ]
  },
  {
   "cell_type": "code",
   "execution_count": 4,
   "metadata": {
    "collapsed": false
   },
   "outputs": [
    {
     "data": {
      "text/html": [
       "<div>\n",
       "<table border=\"1\" class=\"dataframe\">\n",
       "  <thead>\n",
       "    <tr style=\"text-align: right;\">\n",
       "      <th></th>\n",
       "      <th>familr</th>\n",
       "      <th>sexer</th>\n",
       "      <th>RELAT</th>\n",
       "      <th>AGER</th>\n",
       "      <th>OPGNBL</th>\n",
       "      <th>MOYRVL</th>\n",
       "      <th>TAVEPL</th>\n",
       "      <th>ENDETL</th>\n",
       "      <th>GAGETL</th>\n",
       "      <th>GAGECL</th>\n",
       "      <th>...</th>\n",
       "      <th>relatq</th>\n",
       "      <th>qsmoyq</th>\n",
       "      <th>opgnbq</th>\n",
       "      <th>moyrvq</th>\n",
       "      <th>tavepq</th>\n",
       "      <th>dmvtpq</th>\n",
       "      <th>boppnq</th>\n",
       "      <th>jnbjdq</th>\n",
       "      <th>itavcq</th>\n",
       "      <th>CARVP</th>\n",
       "    </tr>\n",
       "  </thead>\n",
       "  <tbody>\n",
       "    <tr>\n",
       "      <th>0</th>\n",
       "      <td>1</td>\n",
       "      <td>0</td>\n",
       "      <td>238</td>\n",
       "      <td>51</td>\n",
       "      <td>0.000000</td>\n",
       "      <td>4.753590</td>\n",
       "      <td>13.461603</td>\n",
       "      <td>1.609438</td>\n",
       "      <td>11.688701</td>\n",
       "      <td>0.000000</td>\n",
       "      <td>...</td>\n",
       "      <td>R2</td>\n",
       "      <td>Q2</td>\n",
       "      <td>O0</td>\n",
       "      <td>M2</td>\n",
       "      <td>T2</td>\n",
       "      <td>D0</td>\n",
       "      <td>B2</td>\n",
       "      <td>J1</td>\n",
       "      <td>I2</td>\n",
       "      <td>Coui</td>\n",
       "    </tr>\n",
       "    <tr>\n",
       "      <th>1</th>\n",
       "      <td>0</td>\n",
       "      <td>0</td>\n",
       "      <td>89</td>\n",
       "      <td>49</td>\n",
       "      <td>0.000000</td>\n",
       "      <td>5.926926</td>\n",
       "      <td>13.067592</td>\n",
       "      <td>0.000000</td>\n",
       "      <td>12.250391</td>\n",
       "      <td>10.541650</td>\n",
       "      <td>...</td>\n",
       "      <td>R1</td>\n",
       "      <td>Q2</td>\n",
       "      <td>O0</td>\n",
       "      <td>M2</td>\n",
       "      <td>T2</td>\n",
       "      <td>D0</td>\n",
       "      <td>B2</td>\n",
       "      <td>J1</td>\n",
       "      <td>I2</td>\n",
       "      <td>Coui</td>\n",
       "    </tr>\n",
       "    <tr>\n",
       "      <th>2</th>\n",
       "      <td>1</td>\n",
       "      <td>0</td>\n",
       "      <td>216</td>\n",
       "      <td>64</td>\n",
       "      <td>1.791759</td>\n",
       "      <td>3.218876</td>\n",
       "      <td>11.270382</td>\n",
       "      <td>0.000000</td>\n",
       "      <td>0.000000</td>\n",
       "      <td>0.000000</td>\n",
       "      <td>...</td>\n",
       "      <td>R2</td>\n",
       "      <td>Q1</td>\n",
       "      <td>O2</td>\n",
       "      <td>M2</td>\n",
       "      <td>T2</td>\n",
       "      <td>D0</td>\n",
       "      <td>B2</td>\n",
       "      <td>J1</td>\n",
       "      <td>I2</td>\n",
       "      <td>Coui</td>\n",
       "    </tr>\n",
       "    <tr>\n",
       "      <th>3</th>\n",
       "      <td>0</td>\n",
       "      <td>0</td>\n",
       "      <td>188</td>\n",
       "      <td>38</td>\n",
       "      <td>1.098612</td>\n",
       "      <td>3.295837</td>\n",
       "      <td>0.000000</td>\n",
       "      <td>1.791759</td>\n",
       "      <td>10.268964</td>\n",
       "      <td>10.268964</td>\n",
       "      <td>...</td>\n",
       "      <td>R2</td>\n",
       "      <td>Q1</td>\n",
       "      <td>O2</td>\n",
       "      <td>M2</td>\n",
       "      <td>T0</td>\n",
       "      <td>D1</td>\n",
       "      <td>B1</td>\n",
       "      <td>J1</td>\n",
       "      <td>I1</td>\n",
       "      <td>Coui</td>\n",
       "    </tr>\n",
       "    <tr>\n",
       "      <th>4</th>\n",
       "      <td>1</td>\n",
       "      <td>1</td>\n",
       "      <td>135</td>\n",
       "      <td>46</td>\n",
       "      <td>1.098612</td>\n",
       "      <td>3.713572</td>\n",
       "      <td>11.480991</td>\n",
       "      <td>0.000000</td>\n",
       "      <td>0.000000</td>\n",
       "      <td>0.000000</td>\n",
       "      <td>...</td>\n",
       "      <td>R1</td>\n",
       "      <td>Q1</td>\n",
       "      <td>O2</td>\n",
       "      <td>M2</td>\n",
       "      <td>T2</td>\n",
       "      <td>D0</td>\n",
       "      <td>B2</td>\n",
       "      <td>J2</td>\n",
       "      <td>I2</td>\n",
       "      <td>Coui</td>\n",
       "    </tr>\n",
       "  </tbody>\n",
       "</table>\n",
       "<p>5 rows × 56 columns</p>\n",
       "</div>"
      ],
      "text/plain": [
       "   familr  sexer  RELAT  AGER    OPGNBL    MOYRVL     TAVEPL    ENDETL  \\\n",
       "0       1      0    238    51  0.000000  4.753590  13.461603  1.609438   \n",
       "1       0      0     89    49  0.000000  5.926926  13.067592  0.000000   \n",
       "2       1      0    216    64  1.791759  3.218876  11.270382  0.000000   \n",
       "3       0      0    188    38  1.098612  3.295837   0.000000  1.791759   \n",
       "4       1      1    135    46  1.098612  3.713572  11.480991  0.000000   \n",
       "\n",
       "      GAGETL     GAGECL  ...    relatq  qsmoyq  opgnbq  moyrvq  tavepq  \\\n",
       "0  11.688701   0.000000  ...        R2      Q2      O0      M2      T2   \n",
       "1  12.250391  10.541650  ...        R1      Q2      O0      M2      T2   \n",
       "2   0.000000   0.000000  ...        R2      Q1      O2      M2      T2   \n",
       "3  10.268964  10.268964  ...        R2      Q1      O2      M2      T0   \n",
       "4   0.000000   0.000000  ...        R1      Q1      O2      M2      T2   \n",
       "\n",
       "   dmvtpq  boppnq  jnbjdq  itavcq  CARVP  \n",
       "0      D0      B2      J1      I2   Coui  \n",
       "1      D0      B2      J1      I2   Coui  \n",
       "2      D0      B2      J1      I2   Coui  \n",
       "3      D1      B1      J1      I1   Coui  \n",
       "4      D0      B2      J2      I2   Coui  \n",
       "\n",
       "[5 rows x 56 columns]"
      ]
     },
     "execution_count": 4,
     "metadata": {},
     "output_type": "execute_result"
    }
   ],
   "source": [
    "import pandas as pd\n",
    "import numpy as np\n",
    "\n",
    "\n",
    "# Lecture des données\n",
    "## Charger les données ou les lire directement en précisant le chemin\n",
    "path=\"\"\n",
    "visappt=pd.read_csv(path+\"visappt.dat\",sep=\" \",header=0)\n",
    "vistest=pd.read_csv(path+\"vistest.dat\",sep=\" \",header=0)\n",
    "# Vérification du contenu\n",
    "visappt.head()"
   ]
  },
  {
   "cell_type": "code",
   "execution_count": 17,
   "metadata": {
    "collapsed": false
   },
   "outputs": [],
   "source": [
    "# liste des variables explicatives quantitatives\n",
    "var=visappt.columns\n",
    "varquant=var[0:30]\n",
    "# liste des variables explicatives qualitatives\n",
    "varqual=var[30:55]"
   ]
  },
  {
   "cell_type": "code",
   "execution_count": 23,
   "metadata": {
    "collapsed": false
   },
   "outputs": [],
   "source": [
    "# Affectation des types de variables\n",
    "for i in varqual:\n",
    "    visappt[i]=pd.Categorical(visappt[i],ordered=False)\n",
    "    vistest[i]=pd.Categorical(vistest[i],ordered=False)"
   ]
  },
  {
   "cell_type": "code",
   "execution_count": 24,
   "metadata": {
    "collapsed": false
   },
   "outputs": [
    {
     "data": {
      "text/plain": [
       "familr       int64\n",
       "sexer        int64\n",
       "RELAT        int64\n",
       "AGER         int64\n",
       "OPGNBL     float64\n",
       "MOYRVL     float64\n",
       "TAVEPL     float64\n",
       "ENDETL     float64\n",
       "GAGETL     float64\n",
       "GAGECL     float64\n",
       "GAGEML     float64\n",
       "KVUNB        int64\n",
       "QSMOY        int64\n",
       "QCREDL     float64\n",
       "DMVTPL     float64\n",
       "BOPPNL     float64\n",
       "FACANL     float64\n",
       "LGAGTL     float64\n",
       "VIENB        int64\n",
       "VIEMTL     float64\n",
       "UEMNB        int64\n",
       "XLGNB        int64\n",
       "XLGMTL     float64\n",
       "YLVNB        int64\n",
       "YLVMTL     float64\n",
       "ROCNB        int64\n",
       "NPTAG        int64\n",
       "ITAVCL     float64\n",
       "HAVEFL     float64\n",
       "JNBJDL     float64\n",
       "SEXEQ     category\n",
       "FAMIQ     category\n",
       "PCSPQ     category\n",
       "kvunbq    category\n",
       "vienbq    category\n",
       "uemnbq    category\n",
       "xlgnbq    category\n",
       "ylvnbq    category\n",
       "rocnbq    category\n",
       "nptagq    category\n",
       "endetq    category\n",
       "gagetq    category\n",
       "facanq    category\n",
       "lgagtq    category\n",
       "havefq    category\n",
       "ageq      category\n",
       "relatq    category\n",
       "qsmoyq    category\n",
       "opgnbq    category\n",
       "moyrvq    category\n",
       "tavepq    category\n",
       "dmvtpq    category\n",
       "boppnq    category\n",
       "jnbjdq    category\n",
       "itavcq    category\n",
       "CARVP       object\n",
       "dtype: object"
      ]
     },
     "execution_count": 24,
     "metadata": {},
     "output_type": "execute_result"
    }
   ],
   "source": [
    "visappt.dtypes"
   ]
  },
  {
   "cell_type": "code",
   "execution_count": 48,
   "metadata": {
    "collapsed": false
   },
   "outputs": [
    {
     "name": "stderr",
     "output_type": "stream",
     "text": [
      "C:\\Anaconda2\\lib\\site-packages\\ipykernel\\__main__.py:6: SettingWithCopyWarning: \n",
      "A value is trying to be set on a copy of a slice from a DataFrame\n",
      "\n",
      "See the caveats in the documentation: http://pandas.pydata.org/pandas-docs/stable/indexing.html#indexing-view-versus-copy\n",
      "C:\\Anaconda2\\lib\\site-packages\\ipykernel\\__main__.py:7: SettingWithCopyWarning: \n",
      "A value is trying to be set on a copy of a slice from a DataFrame\n",
      "\n",
      "See the caveats in the documentation: http://pandas.pydata.org/pandas-docs/stable/indexing.html#indexing-view-versus-copy\n",
      "C:\\Anaconda2\\lib\\site-packages\\ipykernel\\__main__.py:14: SettingWithCopyWarning: \n",
      "A value is trying to be set on a copy of a slice from a DataFrame\n",
      "\n",
      "See the caveats in the documentation: http://pandas.pydata.org/pandas-docs/stable/indexing.html#indexing-view-versus-copy\n",
      "C:\\Anaconda2\\lib\\site-packages\\ipykernel\\__main__.py:15: SettingWithCopyWarning: \n",
      "A value is trying to be set on a copy of a slice from a DataFrame\n",
      "\n",
      "See the caveats in the documentation: http://pandas.pydata.org/pandas-docs/stable/indexing.html#indexing-view-versus-copy\n"
     ]
    },
    {
     "data": {
      "text/plain": [
       "dtype('int64')"
      ]
     },
     "execution_count": 48,
     "metadata": {},
     "output_type": "execute_result"
    }
   ],
   "source": [
    "# Transformation des variables qualitatives en indicatrices et séparation des variables quantitatives\n",
    "# Echantillon Apprentissage\n",
    "visapptq=pd.get_dummies(visappt[varqual])\n",
    "visapptr=visappt[varquant]\n",
    "Y=visappt[\"CARVP\"]\n",
    "Y[Y=='Coui']=1\n",
    "Y[Y=='Cnon']=0\n",
    "Y=Y.map(lambda x: int(x))\n",
    "\n",
    "# Echantillon Test\n",
    "vistestq=pd.get_dummies(vistest[varqual])\n",
    "vistestr=vistest[varquant]\n",
    "Y_test=vistest[\"CARVP\"]\n",
    "Y_test[Y_test=='Coui']=1\n",
    "Y_test[Y_test=='Cnon']=0\n",
    "Y_test=Y_test.map(lambda x: int(x))\n",
    "\n",
    "\n",
    "Y.dtypes"
   ]
  },
  {
   "cell_type": "markdown",
   "metadata": {},
   "source": [
    "# 2. Regression logistique "
   ]
  },
  {
   "cell_type": "markdown",
   "metadata": {},
   "source": [
    "## 2.1 Estimation"
   ]
  },
  {
   "cell_type": "code",
   "execution_count": 84,
   "metadata": {
    "collapsed": false
   },
   "outputs": [],
   "source": [
    "from sklearn.linear_model import LogisticRegression\n",
    "from sklearn.model_selection import GridSearchCV"
   ]
  },
  {
   "cell_type": "code",
   "execution_count": 85,
   "metadata": {
    "collapsed": false
   },
   "outputs": [
    {
     "name": "stdout",
     "output_type": "stream",
     "text": [
      "Meilleur score = 0.200463, Meilleur paramètre = {'C': 2}\n"
     ]
    }
   ],
   "source": [
    "## Lasso\n",
    "# Optimisation du paramètre de pénalisation\n",
    "# grille de valeurs\n",
    "param=[{\"C\":[0.2,0.5,1,1.5,2,2.5,3,4,5,6,10,12,15,30]}]\n",
    "logit = GridSearchCV(LogisticRegression(penalty=\"l1\"), param,cv=5,n_jobs=-1)\n",
    "logitOpt=logit.fit(visapptq, Y)  # GridSearchCV est lui même un estimateur\n",
    "# paramètre optimal\n",
    "logitOpt.best_params_[\"C\"]\n",
    "print(\"Meilleur score = %f, Meilleur paramètre = %s\" % (1.-logitOpt.best_score_,logitOpt.best_params_))"
   ]
  },
  {
   "cell_type": "markdown",
   "metadata": {},
   "source": [
    "## 2.2 Prévision de l'échantillon test"
   ]
  },
  {
   "cell_type": "code",
   "execution_count": 86,
   "metadata": {
    "collapsed": false
   },
   "outputs": [
    {
     "data": {
      "text/plain": [
       "0.17000000000000004"
      ]
     },
     "execution_count": 86,
     "metadata": {},
     "output_type": "execute_result"
    }
   ],
   "source": [
    "# erreur sur l'échantillon test\n",
    "1-logitOpt.score(vistestq, Y_test)"
   ]
  },
  {
   "cell_type": "code",
   "execution_count": 87,
   "metadata": {
    "collapsed": false
   },
   "outputs": [
    {
     "name": "stdout",
     "output_type": "stream",
     "text": [
      "CARVP    0   1\n",
      "row_0         \n",
      "0      121  18\n",
      "1       16  45\n"
     ]
    }
   ],
   "source": [
    "# Prévision\n",
    "y_chap = logitOpt.predict(vistestq)\n",
    "# matrice de confusion\n",
    "table=pd.crosstab(y_chap,Y_test)\n",
    "print(table)"
   ]
  },
  {
   "cell_type": "code",
   "execution_count": 88,
   "metadata": {
    "collapsed": true
   },
   "outputs": [],
   "source": [
    " #Resultats R : \n",
    "# pred.vistest FALSE TRUE\n",
    " #      FALSE   127   22   \n",
    " #      TRUE     10   41"
   ]
  },
  {
   "cell_type": "markdown",
   "metadata": {},
   "source": [
    "## 2.3 Courbe ROC"
   ]
  },
  {
   "cell_type": "code",
   "execution_count": 92,
   "metadata": {
    "collapsed": false
   },
   "outputs": [],
   "source": [
    "from sklearn.metrics import roc_curve\n",
    "%matplotlib inline\n",
    "import matplotlib.pyplot as plt"
   ]
  },
  {
   "cell_type": "code",
   "execution_count": 93,
   "metadata": {
    "collapsed": false
   },
   "outputs": [
    {
     "data": {
      "image/png": "[encoded data removed]",
      "text/plain": [
       "<matplotlib.figure.Figure at 0xa78cef0>"
      ]
     },
     "metadata": {},
     "output_type": "display_data"
    }
   ],
   "source": [
    "# Courbe ROC\n",
    "probas_ = logitOpt.predict_proba(vistestq)\n",
    "fpr, tpr, thresholds = roc_curve(Y_test, probas_[:,1])\n",
    "plt.plot(fpr, tpr, lw=1,label=\"Logit\")\n",
    "plt.xlabel('Taux de faux positifs')\n",
    "plt.ylabel('Taux de vrais positifs')\n",
    "plt.legend(loc=\"best\")\n",
    "plt.show()"
   ]
  },
  {
   "cell_type": "code",
   "execution_count": 94,
   "metadata": {
    "collapsed": false
   },
   "outputs": [
    {
     "ename": "AttributeError",
     "evalue": "'GridSearchCV' object has no attribute 'coef_'",
     "output_type": "error",
     "traceback": [
      "\u001b[0;31m---------------------------------------------------------------------------\u001b[0m",
      "\u001b[0;31mAttributeError\u001b[0m                            Traceback (most recent call last)",
      "\u001b[0;32m<ipython-input-94-47e3a8ea7b68>\u001b[0m in \u001b[0;36m<module>\u001b[0;34m()\u001b[0m\n\u001b[1;32m      1\u001b[0m \u001b[1;31m# Coefficients pour interprétation\u001b[0m\u001b[1;33m\u001b[0m\u001b[1;33m\u001b[0m\u001b[0m\n\u001b[0;32m----> 2\u001b[0;31m \u001b[0mlogitOpt\u001b[0m\u001b[1;33m.\u001b[0m\u001b[0mcoef_\u001b[0m\u001b[1;33m\u001b[0m\u001b[0m\n\u001b[0m",
      "\u001b[0;31mAttributeError\u001b[0m: 'GridSearchCV' object has no attribute 'coef_'"
     ]
    }
   ],
   "source": [
    "# Coefficients pour interprétation à comparer avec R\n",
    "logitOpt.coef_"
   ]
  },
  {
   "cell_type": "markdown",
   "metadata": {},
   "source": [
    "# 3. Analyse Discriminante "
   ]
  },
  {
   "cell_type": "markdown",
   "metadata": {},
   "source": [
    "## 3.1 Estimation"
   ]
  },
  {
   "cell_type": "code",
   "execution_count": 100,
   "metadata": {
    "collapsed": false
   },
   "outputs": [
    {
     "name": "stdout",
     "output_type": "stream",
     "text": [
      "Meilleur score = 0.301275, Meilleur paramètre = {'n_neighbors': 14}\n"
     ]
    }
   ],
   "source": [
    "# analyse discriminante linéaire\n",
    "from sklearn.discriminant_analysis import LinearDiscriminantAnalysis\n",
    "lda=LinearDiscriminantAnalysis().fit(visapptr,Y)\n",
    "\n",
    "# analyse discriminante quadratique\n",
    "from sklearn.discriminant_analysis import QuadraticDiscriminantAnalysis\n",
    "qda=QuadraticDiscriminantAnalysis().fit(visapptr,Y)\n",
    "\n",
    "# k plus proches voisins\n",
    "from sklearn.neighbors import KNeighborsClassifier\n",
    "# Optimisation de k\n",
    "# grille de valeurs\n",
    "param_grid=[{\"n_neighbors\":list(range(1,15))}]\n",
    "knn=GridSearchCV(KNeighborsClassifier(),param_grid,cv=5,n_jobs=-1)\n",
    "knnOpt=knn.fit(visapptr, Y)  # GridSearchCV est lui même un estimateur\n",
    "# paramètre optimal\n",
    "knnOpt.best_params_[\"n_neighbors\"]\n",
    "print(\"Meilleur score = %f, Meilleur paramètre = %s\" % (1.-knnOpt.best_score_,knnOpt.best_params_))"
   ]
  },
  {
   "cell_type": "markdown",
   "metadata": {},
   "source": [
    "## 3.2 Prédiction de l'échantillon test"
   ]
  },
  {
   "cell_type": "code",
   "execution_count": 102,
   "metadata": {
    "collapsed": false
   },
   "outputs": [
    {
     "data": {
      "text/plain": [
       "0.17500000000000004"
      ]
     },
     "execution_count": 102,
     "metadata": {},
     "output_type": "execute_result"
    }
   ],
   "source": [
    "# Estimation de l'erreur de prévision sur l'échantillon test\n",
    "1-lda.score(vistestr,Y_test)"
   ]
  },
  {
   "cell_type": "code",
   "execution_count": 103,
   "metadata": {
    "collapsed": false
   },
   "outputs": [
    {
     "data": {
      "text/plain": [
       "0.25"
      ]
     },
     "execution_count": 103,
     "metadata": {},
     "output_type": "execute_result"
    }
   ],
   "source": [
    "# Estimation de l'erreur de prévision sur l'échantillon test\n",
    "1-qda.score(vistestr,Y_test)"
   ]
  },
  {
   "cell_type": "code",
   "execution_count": 101,
   "metadata": {
    "collapsed": false
   },
   "outputs": [
    {
     "data": {
      "text/plain": [
       "0.28500000000000003"
      ]
     },
     "execution_count": 101,
     "metadata": {},
     "output_type": "execute_result"
    }
   ],
   "source": [
    "# Estimation de l'erreur de prévision sur l'échantillon test\n",
    "1-knnOpt.score(vistestr,Y_test)\n"
   ]
  },
  {
   "cell_type": "code",
   "execution_count": 104,
   "metadata": {
    "collapsed": false
   },
   "outputs": [
    {
     "name": "stdout",
     "output_type": "stream",
     "text": [
      "CARVP    0   1\n",
      "row_0         \n",
      "0      123  21\n",
      "1       14  42\n"
     ]
    }
   ],
   "source": [
    "# Prévision de l'échantillon test\n",
    "y_chap = lda.predict(vistestr)\n",
    "# matrice de confusion\n",
    "table=pd.crosstab(y_chap,Y_test)\n",
    "print(table)\n",
    "\n",
    "# Résultats R\n",
    "#Cnon Coui\n",
    "#Cnon  123   14\n",
    "#Coui   21   42"
   ]
  },
  {
   "cell_type": "code",
   "execution_count": 105,
   "metadata": {
    "collapsed": false
   },
   "outputs": [
    {
     "name": "stdout",
     "output_type": "stream",
     "text": [
      "CARVP    0   1\n",
      "row_0         \n",
      "0      114  27\n",
      "1       23  36\n"
     ]
    }
   ],
   "source": [
    "# Prévision de l'échantillon test\n",
    "y_chap = qda.predict(vistestr)\n",
    "# matrice de confusion\n",
    "table=pd.crosstab(y_chap,Y_test)\n",
    "print(table)\n",
    "\n",
    "# Résultats R\n",
    "#Cnon Coui\n",
    "#Cnon  114   23\n",
    "#Coui   27   36"
   ]
  },
  {
   "cell_type": "code",
   "execution_count": 98,
   "metadata": {
    "collapsed": false
   },
   "outputs": [
    {
     "name": "stdout",
     "output_type": "stream",
     "text": [
      "CARVP    0   1\n",
      "row_0         \n",
      "0      119  39\n",
      "1       18  24\n"
     ]
    }
   ],
   "source": [
    "# Prévision de l'échantillon test\n",
    "y_chap = knnOpt.predict(vistestr)\n",
    "# matrice de confusion\n",
    "table=pd.crosstab(y_chap,Y_test)\n",
    "print(table)\n",
    "\n",
    "# Résultats R\n",
    "#Cnon Coui\n",
    "#Cnon  114   38\n",
    "#Coui   23   25"
   ]
  },
  {
   "cell_type": "markdown",
   "metadata": {},
   "source": [
    "## 3.3 Courbe ROC"
   ]
  },
  {
   "cell_type": "code",
   "execution_count": 107,
   "metadata": {
    "collapsed": false
   },
   "outputs": [
    {
     "data": {
      "image/png": "[encoded data removed]",
      "text/plain": [
       "<matplotlib.figure.Figure at 0x6e464a8>"
      ]
     },
     "metadata": {},
     "output_type": "display_data"
    }
   ],
   "source": [
    "# Courbe \n",
    "listMethod=[[\"Logit\",logitOpt,visapptq,vistestq],[\"Lda\",lda,visapptr,vistestr],[\"Qda\",qda,visapptr,vistestr],\n",
    "            [\"Knn\",knnOpt,visapptr,vistestr]]\n",
    "for method in enumerate(listMethod):\n",
    "    probas_ = method[1][1].fit(method[1][2], Y).predict_proba(method[1][3])\n",
    "    fpr, tpr, thresholds = roc_curve(Y_test, probas_[:,1])\n",
    "    plt.plot(fpr, tpr, lw=1,label=\"%s\"%method[1][0])\n",
    "plt.xlabel('Taux de faux positifs')\n",
    "plt.ylabel('Taux de vrais positifs')\n",
    "plt.legend(loc=\"best\")\n",
    "plt.show()"
   ]
  },
  {
   "cell_type": "markdown",
   "metadata": {},
   "source": [
    "# 4. Arbres de décisions binaires"
   ]
  },
  {
   "cell_type": "code",
   "execution_count": null,
   "metadata": {
    "collapsed": true
   },
   "outputs": [],
   "source": []
  }
 ],
 "metadata": {
  "kernelspec": {
   "display_name": "Python 2",
   "language": "python",
   "name": "python2"
  },
  "language_info": {
   "codemirror_mode": {
    "name": "ipython",
    "version": 2
   },
   "file_extension": ".py",
   "mimetype": "text/x-python",
   "name": "python",
   "nbconvert_exporter": "python",
   "pygments_lexer": "ipython2",
   "version": "2.7.12"
  }
 },
 "nbformat": 4,
 "nbformat_minor": 1
}
